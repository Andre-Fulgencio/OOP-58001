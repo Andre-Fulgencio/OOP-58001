{
  "nbformat": 4,
  "nbformat_minor": 0,
  "metadata": {
    "colab": {
      "name": "Concept in Python_Andre.ipynb",
      "provenance": [],
      "authorship_tag": "ABX9TyPfeeVMszvBg7zmaSyFUmKa",
      "include_colab_link": true
    },
    "kernelspec": {
      "name": "python3",
      "display_name": "Python 3"
    },
    "language_info": {
      "name": "python"
    }
  },
  "cells": [
    {
      "cell_type": "markdown",
      "metadata": {
        "id": "view-in-github",
        "colab_type": "text"
      },
      "source": [
        "<a href=\"https://colab.research.google.com/github/Andre-Fulgencio/OOP-58001/blob/main/Concept_in_Python_Andre.ipynb\" target=\"_parent\"><img src=\"https://colab.research.google.com/assets/colab-badge.svg\" alt=\"Open In Colab\"/></a>"
      ]
    },
    {
      "cell_type": "markdown",
      "source": [
        "creat a class"
      ],
      "metadata": {
        "id": "2CC-IWATvg7g"
      }
    },
    {
      "cell_type": "code",
      "source": [
        "class Car:\n",
        "  pass\n",
        "  "
      ],
      "metadata": {
        "id": "d-G1HjqlviFa"
      },
      "execution_count": 2,
      "outputs": []
    },
    {
      "cell_type": "code",
      "source": [
        "class MyClass:\n",
        "  X = 40"
      ],
      "metadata": {
        "id": "tOjQQUxkvp0X"
      },
      "execution_count": 3,
      "outputs": []
    },
    {
      "cell_type": "markdown",
      "source": [
        "creat an object"
      ],
      "metadata": {
        "id": "TW-cRiNevsv3"
      }
    },
    {
      "cell_type": "code",
      "source": [
        "class Car:\n",
        "  def __init__(self,name,color):\n",
        "    self.name = name\n",
        "    self.color = color\n",
        "    \n",
        "    def description(self):\n",
        "      return \"The\" + self.name + \"has a color\" + self.color\n",
        "\n",
        "      def show(self):\n",
        "        print(\"The\" + self.name + \"has a color\" + self.color)\n",
        "\n",
        "    car1 = Car(\"Honda Civic\", \"silver gray\")\n",
        "    car1.show()"
      ],
      "metadata": {
        "id": "J0VH-akWv4aM"
      },
      "execution_count": 4,
      "outputs": []
    },
    {
      "cell_type": "markdown",
      "source": [
        "Object methods"
      ],
      "metadata": {
        "id": "GiUP7oNCwB0A"
      }
    },
    {
      "cell_type": "code",
      "source": [
        "class Person:\n",
        "  def __init__(self,name, age):\n",
        "    self.name = name\n",
        "    self.age = age\n",
        "  def myFunction(self):\n",
        "    print(\"Hello! My name is\", self.name)\n",
        "    print(\"I am\", self.name)\n",
        "\n",
        "p1 = Person(\"Andre Isaac\", 18)\n",
        "p1.myFunction()"
      ],
      "metadata": {
        "colab": {
          "base_uri": "https://localhost:8080/"
        },
        "id": "yRgVXj3wwEFF",
        "outputId": "06325127-f90d-4c3c-f9a0-9a66afbf7798"
      },
      "execution_count": 8,
      "outputs": [
        {
          "output_type": "stream",
          "name": "stdout",
          "text": [
            "Hello! My name is Andre Isaac\n",
            "I am Andre Isaac\n"
          ]
        }
      ]
    },
    {
      "cell_type": "markdown",
      "source": [
        "\n",
        "Modify an Object Property"
      ],
      "metadata": {
        "id": "nCZ490T4wmQ6"
      }
    },
    {
      "cell_type": "code",
      "source": [
        "class Car():\n",
        "  def __init__(self,name,color):\n",
        "    self.name = name\n",
        "    self.color = color\n",
        "\n",
        "  def description(self):\n",
        "    return self.name + self.color\n",
        "\n",
        "  def show(self):\n",
        "    print(\"The name and color of the car is\", self.description())\n",
        "\n",
        "obj1 = Car(\"Honda Civic\",\" silver gray\")\n",
        "obj1.show()"
      ],
      "metadata": {
        "colab": {
          "base_uri": "https://localhost:8080/"
        },
        "id": "en8o--8Rwwlu",
        "outputId": "b65f1fd5-20df-4a3b-92fd-36eaf86e26e2"
      },
      "execution_count": 6,
      "outputs": [
        {
          "output_type": "stream",
          "name": "stdout",
          "text": [
            "The name and color of the car is Honda Civic silver gray\n"
          ]
        }
      ]
    },
    {
      "cell_type": "markdown",
      "source": [
        "Application 1 - Write a program that computes for the Area and Perimeter of a Square, and create a class name Square with side as its attribute"
      ],
      "metadata": {
        "id": "WaCAT3lTxEsb"
      }
    },
    {
      "cell_type": "code",
      "source": [
        "#Area of a Square = s*S\n",
        "#Perimeter of a Square = 4*s = s+s+s+s\n",
        "\n",
        "class Square:\n",
        "  def __init__(self, side):\n",
        "    self.side = side\n",
        "\n",
        "  def Area(self):\n",
        "    return self.side * self.side\n",
        "\n",
        "  def Perimeter(self):\n",
        "    return 4*(self.side)\n",
        "\n",
        "  def display(self):\n",
        "    print(\"The area of a square is\", self.Area())\n",
        "    print(\"The perimeter of a square is\", self.Perimeter())\n",
        "\n",
        "sq1 = Square(2)\n",
        "sq1.display()"
      ],
      "metadata": {
        "colab": {
          "base_uri": "https://localhost:8080/"
        },
        "id": "-tS8zyj2xd_N",
        "outputId": "895e1666-1113-4c8c-aa3f-fee1c46dba12"
      },
      "execution_count": 7,
      "outputs": [
        {
          "output_type": "stream",
          "name": "stdout",
          "text": [
            "The area of a square is 4\n",
            "The perimeter of a square is 8\n"
          ]
        }
      ]
    },
    {
      "cell_type": "markdown",
      "source": [
        "Application 2 - Write a Python program that displays your student no. and Fullname (Surname, First Name, MI) and create a class name OOP_58001"
      ],
      "metadata": {
        "id": "FZlvApsgx5V2"
      }
    },
    {
      "cell_type": "code",
      "source": [
        "class Person:\n",
        " def __init__(self,student,number):\n",
        "  self.student = student\n",
        "  self.number = number\n",
        "\n",
        " def myFunction(self):\n",
        "  print(\"I am\",self.student,\"and my student number is\", self.number)\n",
        "  print(\"Section - OOP_58001\")\n",
        "\n",
        "\n",
        "p1= Person(\"Fulgencio, Andre Isaac C.\", 202115427)\n",
        "p1.myFunction()"
      ],
      "metadata": {
        "colab": {
          "base_uri": "https://localhost:8080/"
        },
        "id": "vdrxfyFIx6gv",
        "outputId": "2a58ca92-aeb0-48f4-83fc-800b1e423581"
      },
      "execution_count": 10,
      "outputs": [
        {
          "output_type": "stream",
          "name": "stdout",
          "text": [
            "I am Fulgencio, Andre Isaac C. and my student number is 202115427\n",
            "Section - OOP_58001\n"
          ]
        }
      ]
    },
    {
      "cell_type": "markdown",
      "source": [
        ""
      ],
      "metadata": {
        "id": "KJ86RjiLxi-O"
      }
    }
  ]
}