{
  "nbformat": 4,
  "nbformat_minor": 0,
  "metadata": {
    "colab": {
      "name": "Long_Quiz_1_Andre_Isaac_Fulgencio.ipynb",
      "provenance": [],
      "authorship_tag": "ABX9TyPJbArFkODsUKgu+O4pMmrr",
      "include_colab_link": true
    },
    "kernelspec": {
      "name": "python3",
      "display_name": "Python 3"
    },
    "language_info": {
      "name": "python"
    }
  },
  "cells": [
    {
      "cell_type": "markdown",
      "metadata": {
        "id": "view-in-github",
        "colab_type": "text"
      },
      "source": [
        "<a href=\"https://colab.research.google.com/github/Andre-Fulgencio/OOP-58001/blob/main/Long_Quiz_1_Andre_Isaac_Fulgencio.ipynb\" target=\"_parent\"><img src=\"https://colab.research.google.com/assets/colab-badge.svg\" alt=\"Open In Colab\"/></a>"
      ]
    },
    {
      "cell_type": "markdown",
      "source": [
        "Long Quiz 1 - Andre Isaac Fulgencio"
      ],
      "metadata": {
        "id": "t_yc5rhDnER7"
      }
    },
    {
      "cell_type": "code",
      "execution_count": 5,
      "metadata": {
        "colab": {
          "base_uri": "https://localhost:8080/"
        },
        "id": "uNFcL8_8l0p9",
        "outputId": "382bc469-7fa8-4328-fa38-a60e585735dd"
      },
      "outputs": [
        {
          "output_type": "stream",
          "name": "stdout",
          "text": [
            "5\n",
            "The perimeter of the Ring is 31.400000000000002\n",
            "The area of the Ring is 78.5\n"
          ]
        }
      ],
      "source": [
        "class Circle():\n",
        "  def __init__(self, radius):\n",
        "    self.radius = int (radius)\n",
        "\n",
        "  def Perimeter (self):\n",
        "    return 2 * pi * self.radius\n",
        "\n",
        "  def Area (self):\n",
        "    return pi * (self.radius ** 2)\n",
        "\n",
        "  def display (self):\n",
        "    print (\"The perimeter of the Ring is\", self.Perimeter())\n",
        "    print (\"The area of the Ring is\", self.Area())\n",
        "\n",
        "pi = 3.14\n",
        "ring = Circle (input())\n",
        "ring.display()\n"
      ]
    }
  ]
}