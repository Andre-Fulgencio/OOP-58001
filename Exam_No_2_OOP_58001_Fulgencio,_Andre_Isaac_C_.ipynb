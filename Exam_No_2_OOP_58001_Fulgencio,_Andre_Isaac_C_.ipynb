{
  "nbformat": 4,
  "nbformat_minor": 0,
  "metadata": {
    "colab": {
      "name": "Exam No.2 OOP-58001_Fulgencio, Andre Isaac C..ipynb",
      "provenance": [],
      "authorship_tag": "ABX9TyPfizeiXzXiwUGCElgicPZg",
      "include_colab_link": true
    },
    "kernelspec": {
      "name": "python3",
      "display_name": "Python 3"
    },
    "language_info": {
      "name": "python"
    }
  },
  "cells": [
    {
      "cell_type": "markdown",
      "metadata": {
        "id": "view-in-github",
        "colab_type": "text"
      },
      "source": [
        "<a href=\"https://colab.research.google.com/github/Andre-Fulgencio/OOP-58001/blob/main/Exam_No_2_OOP_58001_Fulgencio%2C_Andre_Isaac_C_.ipynb\" target=\"_parent\"><img src=\"https://colab.research.google.com/assets/colab-badge.svg\" alt=\"Open In Colab\"/></a>"
      ]
    },
    {
      "cell_type": "code",
      "execution_count": 39,
      "metadata": {
        "id": "HG2zbCGkHYg8"
      },
      "outputs": [],
      "source": [
        "class student:\n",
        "  def __init__(self, name, number, age, school, course):\n",
        "    self.name = name\n",
        "    self.number = number\n",
        "    self.age = age\n",
        "    self.school = school\n",
        "    self.course = course\n",
        "  \n",
        "  def self (self):\n",
        "           Myself = Student( \"Fulgencio\", 202115427, 19, \"Adamson University\", \"Computer Engineering\")\n",
        "           Myself.self()\n",
        "\n",
        "\n",
        "\n",
        "\n"
      ]
    }
  ]
}