{
  "nbformat": 4,
  "nbformat_minor": 0,
  "metadata": {
    "colab": {
      "name": "OOP Concepts_Fulgencio.ipynb",
      "provenance": [],
      "authorship_tag": "ABX9TyMIErWHvhFLLhomF1jNT+ot",
      "include_colab_link": true
    },
    "kernelspec": {
      "name": "python3",
      "display_name": "Python 3"
    },
    "language_info": {
      "name": "python"
    }
  },
  "cells": [
    {
      "cell_type": "markdown",
      "metadata": {
        "id": "view-in-github",
        "colab_type": "text"
      },
      "source": [
        "<a href=\"https://colab.research.google.com/github/Andre-Fulgencio/OOP-58001/blob/main/OOP_Concepts_Fulgencio.ipynb\" target=\"_parent\"><img src=\"https://colab.research.google.com/assets/colab-badge.svg\" alt=\"Open In Colab\"/></a>"
      ]
    },
    {
      "cell_type": "code",
      "execution_count": 6,
      "metadata": {
        "colab": {
          "base_uri": "https://localhost:8080/"
        },
        "id": "Tl5ll85jXnQE",
        "outputId": "5d7cf564-cb16-4601-db79-30ad35ba97cc"
      },
      "outputs": [
        {
          "output_type": "stream",
          "name": "stdout",
          "text": [
            "Love Birds is flying above the sky.\n",
            "Common Crane is flying above the sky.\n",
            "Philippine Eagle is the national bird of the Philippines.\n"
          ]
        }
      ],
      "source": [
        "class Birds:\n",
        "  def __init__(self, bird_name):\n",
        "    self.bird_name = bird_name\n",
        "  def flying_birds(self):\n",
        "    print(f\"{self.bird_name} is flying above the sky.\")\n",
        "  def non_flying_birds(self):\n",
        "    print(f\"{self.bird_name} is the national bird of the Philippines.\")\n",
        "  \n",
        "parrot = Birds(\"Love Birds\")\n",
        "crane = Birds(\"Common Crane\")\n",
        "Eagle = Birds(\"Philippine Eagle\")\n",
        "\n",
        "parrot.flying_birds()\n",
        "crane.flying_birds()\n",
        "Eagle.non_flying_birds()"
      ]
    },
    {
      "cell_type": "code",
      "source": [
        "class foo:\n",
        "  def __init__(self, a, b):\n",
        "    self._a = a\n",
        "    self._b = b\n",
        "  def add(self):\n",
        "    return self._a + self._b\n",
        "foo_object = foo(5,4)\n",
        "foo_object.add()\n",
        "\n",
        "foo_object.a = 6\n",
        "foo_object.add()"
      ],
      "metadata": {
        "colab": {
          "base_uri": "https://localhost:8080/"
        },
        "id": "-tSfiM2hcD4y",
        "outputId": "4a5a2879-0fc8-4e20-84c2-4d99857e4f84"
      },
      "execution_count": 9,
      "outputs": [
        {
          "output_type": "execute_result",
          "data": {
            "text/plain": [
              "9"
            ]
          },
          "metadata": {},
          "execution_count": 9
        }
      ]
    },
    {
      "cell_type": "code",
      "source": [
        "class Counter:\n",
        "  def __init__(self):\n",
        "    self.current = 0 \n",
        "\n",
        "  def increment(self):\n",
        "    self.current += 1 #current = current+1\n",
        "  \n",
        "  def value(self):\n",
        "    return self.current\n",
        "  \n",
        "  def reset(self):\n",
        "    self.current = 0 \n",
        "  \n",
        "counter = Counter()\n",
        "\n",
        "counter.increment()\n",
        "counter.increment()\n",
        "counter.increment()\n",
        "\n",
        "print(counter.value())"
      ],
      "metadata": {
        "colab": {
          "base_uri": "https://localhost:8080/"
        },
        "id": "5JnKAXWrdYhb",
        "outputId": "2303da1e-823e-48f5-f01b-600e6d9f0723"
      },
      "execution_count": 10,
      "outputs": [
        {
          "output_type": "stream",
          "name": "stdout",
          "text": [
            "3\n"
          ]
        }
      ]
    },
    {
      "cell_type": "code",
      "source": [
        "class Counter:\n",
        "  def __init__(self):\n",
        "    self.__current = 0\n",
        "\n",
        "  def increment(self):\n",
        "    self.__current += 1 #current = currrent+1\n",
        "\n",
        "  def value(self):\n",
        "    return self.__current\n",
        "\n",
        "  def reset (self):\n",
        "    self.current = 0\n",
        "  \n",
        "counter = Counter()\n",
        "\n",
        "counter.increment()\n",
        "counter.increment()\n",
        "counter.increment()\n",
        "\n",
        "print(counter.reset())"
      ],
      "metadata": {
        "colab": {
          "base_uri": "https://localhost:8080/"
        },
        "id": "s3N3MSSkd342",
        "outputId": "fb0a6fcf-b2c1-4ba8-fb84-8ae133dd684c"
      },
      "execution_count": 11,
      "outputs": [
        {
          "output_type": "stream",
          "name": "stdout",
          "text": [
            "None\n"
          ]
        }
      ]
    },
    {
      "cell_type": "code",
      "source": [
        "class Person:\n",
        "  def __init__(self, fname, sname):\n",
        "    self.fname = fname\n",
        "    self.sname = sname\n",
        "  def printname(self):\n",
        "    print(self.fname,self.sname)\n",
        "\n",
        "x = Person(\"Andre Isaac C.\",\"Fulgencio\")\n",
        "x.printname()\n",
        "\n",
        "class Teacher(Person):\n",
        "  pass\n",
        "\n",
        "x = Teacher(\"Rizette\",\"Sayo\")\n",
        "x.printname()"
      ],
      "metadata": {
        "colab": {
          "base_uri": "https://localhost:8080/"
        },
        "id": "XUsbpvsue3bi",
        "outputId": "034287d4-6d8e-4e22-cd47-e1f3e532d5a4"
      },
      "execution_count": 12,
      "outputs": [
        {
          "output_type": "stream",
          "name": "stdout",
          "text": [
            "Andre Isaac C. Fulgencio\n",
            "Rizette Sayo\n"
          ]
        }
      ]
    },
    {
      "cell_type": "code",
      "source": [
        "class RegularPolygon:\n",
        "    def __init__(self, side):\n",
        "        self._side = side\n",
        "class Square(RegularPolygon):\n",
        "    def area(self):\n",
        "        return self._side * self._side\n",
        "class EquilateralTriangle(RegularPolygon):\n",
        "    def area(self):\n",
        "        return self._side * self._side * 0.433\n",
        "\n",
        "obj1 = Square(4)\n",
        "obj2 = EquilateralTriangle(3)\n",
        "\n",
        "print(obj1.area())\n",
        "print(obj2.area())"
      ],
      "metadata": {
        "colab": {
          "base_uri": "https://localhost:8080/"
        },
        "id": "KLMNvJOafG9p",
        "outputId": "30e78c61-83cd-4ccf-c064-010af61eaa09"
      },
      "execution_count": 13,
      "outputs": [
        {
          "output_type": "stream",
          "name": "stdout",
          "text": [
            "16\n",
            "3.897\n"
          ]
        }
      ]
    },
    {
      "cell_type": "code",
      "source": [
        "import random\n",
        "class Person:\n",
        "  def __init__(self, name, pre, mid, fin):\n",
        "    self._name = name\n",
        "    self._pre = pre* 0.30\n",
        "    self._mid = mid* 0.30\n",
        "    self._fin = fin* 0.40\n",
        "    \n",
        "  def Grades(self):\n",
        "     return print(self._name, \"has a Semestral Grade of\", self._pre + self._mid + self._fin ,\"%\")\n",
        "\n",
        "\n",
        "std1 = Person(\"Student 1: Luke Ruego\" , random.randint(75,99) , random.randint(75,99) , random.randint(75,99)) \n",
        "std2 = Person(\"Student 2: Ian Metante\" , random.randint(75,99) , random.randint(75,99) , random.randint(75,99))\n",
        "std3 = Person(\"Student 3: Alfred Ocampo\" , random.randint(75,99) , random.randint(75,99) , random.randint(75,99))\n",
        "\n",
        "x = input(str(\"Which student's grades you wish to view:\\nType 1, 2, or 3\\n\"))\n",
        "\n",
        "\n",
        "if x == \"1\":\n",
        "  std1.Grades()\n",
        "else:\n",
        "  if x == \"2\":\n",
        "    std2.Grades()\n",
        "  else:\n",
        "    if x == \"3\":\n",
        "      std3.Grades()\n",
        "    else:\n",
        "      print(\"Invalid Student\")"
      ],
      "metadata": {
        "colab": {
          "base_uri": "https://localhost:8080/"
        },
        "id": "8zx4nqYCf4-M",
        "outputId": "297ec7b0-0a81-4672-eb08-9d347ab85305"
      },
      "execution_count": 14,
      "outputs": [
        {
          "output_type": "stream",
          "name": "stdout",
          "text": [
            "Which student's grades you wish to view:\n",
            "Type 1, 2, or 3\n",
            "2\n",
            "Student 2: Ian Metante has a Semestral Grade of 82.4 %\n"
          ]
        }
      ]
    }
  ]
}